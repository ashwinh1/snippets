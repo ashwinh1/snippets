{
 "cells": [
  {
   "cell_type": "code",
   "execution_count": 4,
   "metadata": {},
   "outputs": [],
   "source": [
    "import pandas as pd\n",
    "import numpy as np\n",
    "import matplotlib.pyplot as plt\n",
    "import seaborn as sns"
   ]
  },
  {
   "cell_type": "code",
   "execution_count": 6,
   "metadata": {},
   "outputs": [],
   "source": [
    "sns.set_palette(\"coolwarm\") # Default palette of chart\n",
    "sns.set_style('whitegrid') # Default style of chart\n",
    "import warnings\n",
    "warnings.filterwarnings('ignore') # Ignore warning messages\n",
    "pd.set_option('display.max_rows',500) # Max. no of rows to be displayed\n",
    "pd.set_option('display.max_columns',500) # Max. no of columns to be displayed\n",
    "pd.options.display.float_format = \"{:,.2f}\".format # Round values displayed to 2 decimals\n",
    "from IPython.core.interactiveshell import InteractiveShell\n",
    "InteractiveShell.ast_node_interactivity = 'all' # Enable multi-command execution in the same cell"
   ]
  },
  {
   "cell_type": "code",
   "execution_count": 2,
   "metadata": {},
   "outputs": [
    {
     "data": {
      "text/plain": [
       "'C:\\\\Users\\\\ashwin.ashok\\\\OneDrive - Reliance Corporate IT Park Limited\\\\Learning'"
      ]
     },
     "execution_count": 2,
     "metadata": {},
     "output_type": "execute_result"
    }
   ],
   "source": [
    "# View the current working directory\n",
    "import os\n",
    "os.getcwd()"
   ]
  },
  {
   "cell_type": "code",
   "execution_count": null,
   "metadata": {},
   "outputs": [],
   "source": [
    "plt.figure(figsize=(25,8),dpi=100) # Size of plot"
   ]
  },
  {
   "cell_type": "code",
   "execution_count": null,
   "metadata": {},
   "outputs": [],
   "source": [
    "plt.style.available # Check available styles\n",
    "plt.style.use('seaborn') # Chart style"
   ]
  },
  {
   "cell_type": "code",
   "execution_count": null,
   "metadata": {},
   "outputs": [],
   "source": [
    "# Annotate bar charts\n",
    "# b is the chart generated\n",
    "for bar in b.patches:\n",
    "    b.annotate(format(bar.get_height(), '.2f'), \n",
    "                   (bar.get_x() + bar.get_width() / 2, \n",
    "                    bar.get_height()), ha='center', va='center',\n",
    "                   size=25, xytext=(0,10),\n",
    "                   textcoords='offset points')\n",
    "# For horizontal charts\n",
    "for bar in b.patches:\n",
    "    b.annotate(format(bar.get_width(), '.2f'), \n",
    "                   (bar.get_width()+1.9, # get_width() moves left and right\n",
    "                    bar.get_y()+0.45), ha='center', va='center', # get_y() moves up and down\n",
    "                   size=17, xytext=(0,10),\n",
    "                   textcoords='offset points')"
   ]
  },
  {
   "cell_type": "code",
   "execution_count": null,
   "metadata": {},
   "outputs": [],
   "source": []
  },
  {
   "cell_type": "code",
   "execution_count": null,
   "metadata": {},
   "outputs": [],
   "source": []
  }
 ],
 "metadata": {
  "kernelspec": {
   "display_name": "Python 3",
   "language": "python",
   "name": "python3"
  },
  "language_info": {
   "codemirror_mode": {
    "name": "ipython",
    "version": 3
   },
   "file_extension": ".py",
   "mimetype": "text/x-python",
   "name": "python",
   "nbconvert_exporter": "python",
   "pygments_lexer": "ipython3",
   "version": "3.7.3"
  }
 },
 "nbformat": 4,
 "nbformat_minor": 2
}
